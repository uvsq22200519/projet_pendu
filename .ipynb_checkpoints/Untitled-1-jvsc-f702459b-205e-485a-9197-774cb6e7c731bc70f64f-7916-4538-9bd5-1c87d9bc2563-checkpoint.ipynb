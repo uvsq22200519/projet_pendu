{
 "cells": [
  {
   "cell_type": "code",
   "execution_count": null,
   "metadata": {},
   "outputs": [],
   "source": []
  }
 ],
 "metadata": {
  "kernelspec": {
   "display_name": "Python 3.10.4 ('l1-python')",
   "language": "python",
   "name": "python3"
  },
  "language_info": {
   "name": "python",
   "version": "3.10.4"
  },
  "vscode": {
   "interpreter": {
    "hash": "77484ce416118502741a8d3f016440e56baf463ce99ead0d2989916382f7c35f"
   }
  }
 },
 "nbformat": 4,
 "nbformat_minor": 5
}
